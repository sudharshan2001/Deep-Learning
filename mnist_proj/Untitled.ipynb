{
 "cells": [
  {
   "cell_type": "code",
   "execution_count": 1,
   "metadata": {},
   "outputs": [],
   "source": [
    "import tensorflow \n",
    "from tensorflow import keras\n",
    "from tensorflow.keras.datasets import mnist\n",
    "from tensorflow.keras.models import Sequential\n",
    "from tensorflow.keras.layers import Dense, Dropout, Flatten,Conv2D, MaxPooling2D"
   ]
  },
  {
   "cell_type": "code",
   "execution_count": 2,
   "metadata": {},
   "outputs": [],
   "source": [
    "# Loading Data\n",
    "(x_train, y_train), (x_test, y_test) = mnist.load_data()"
   ]
  },
  {
   "cell_type": "code",
   "execution_count": 3,
   "metadata": {},
   "outputs": [],
   "source": [
    "#Normalising the input\n",
    "x_train = x_train.astype('float32')\n",
    "x_test = x_test.astype('float32')\n",
    "x_train /= 255\n",
    "x_test /= 255"
   ]
  },
  {
   "cell_type": "code",
   "execution_count": 4,
   "metadata": {},
   "outputs": [],
   "source": [
    "# Reshaping the data\n",
    "x_train = x_train.reshape(60000, 28, 28, 1)\n",
    "x_test = x_test.reshape(10000, 28, 28, 1)"
   ]
  },
  {
   "cell_type": "code",
   "execution_count": 5,
   "metadata": {},
   "outputs": [],
   "source": [
    "# # we're basically OHE the label\n",
    "# y_train = keras.utils.to_categorical(y_train, 10)\n",
    "# y_test = keras.utils.to_categorical(y_test, 10)"
   ]
  },
  {
   "cell_type": "code",
   "execution_count": 6,
   "metadata": {},
   "outputs": [
    {
     "data": {
      "text/plain": [
       "60000"
      ]
     },
     "execution_count": 6,
     "metadata": {},
     "output_type": "execute_result"
    }
   ],
   "source": [
    "x_train.shape[0]"
   ]
  },
  {
   "cell_type": "code",
   "execution_count": 7,
   "metadata": {},
   "outputs": [
    {
     "name": "stdout",
     "output_type": "stream",
     "text": [
      "shape of Y Train:(60000,)\n",
      "shape of Y test(10000,)\n",
      "Y test: 7\n",
      "Y trains: 5\n"
     ]
    }
   ],
   "source": [
    "print(f'''shape of Y Train:{y_train.shape}\n",
    "shape of Y test{y_test.shape}''')\n",
    "\n",
    "print(f'Y test: {y_test[0]}')\n",
    "\n",
    "print(f'Y trains: {y_train[0]}')"
   ]
  },
  {
   "cell_type": "code",
   "execution_count": 8,
   "metadata": {},
   "outputs": [],
   "source": [
    "#Making our model\n",
    "\n",
    "model = Sequential()\n",
    "model.add(Conv2D(64,(5, 5),activation='relu',strides=(1,1), padding='same',input_shape=(28, 28, 1)))\n",
    "model.add(MaxPooling2D(pool_size=(2, 2)))\n",
    "model.add(Dropout(0.5))\n",
    "model.add(Flatten())\n",
    "model.add(Dense(300,activation='relu'))\n",
    "model.add(Dropout(0.3))\n",
    "model.add(Dense(100,activation='relu'))\n",
    "model.add(Dropout(0.3))\n",
    "model.add(Dense(10, activation='softmax'))"
   ]
  },
  {
   "cell_type": "code",
   "execution_count": 9,
   "metadata": {},
   "outputs": [],
   "source": [
    "model.compile(loss='sparse_categorical_crossentropy',\n",
    "              optimizer=keras.optimizers.Adam(learning_rate=0.001,\n",
    "                                              beta_1=0.9,\n",
    "                                              beta_2=0.999,\n",
    "                                              epsilon=1e-07,\n",
    "                                              name='Adam'),\n",
    "              metrics=['accuracy'])"
   ]
  },
  {
   "cell_type": "code",
   "execution_count": 10,
   "metadata": {},
   "outputs": [
    {
     "name": "stdout",
     "output_type": "stream",
     "text": [
      "Epoch 1/10\n",
      "469/469 [==============================] - 66s 137ms/step - loss: 0.2562 - accuracy: 0.9207 - val_loss: 0.0601 - val_accuracy: 0.9802\n",
      "Epoch 2/10\n",
      "469/469 [==============================] - 68s 145ms/step - loss: 0.0834 - accuracy: 0.9748 - val_loss: 0.0414 - val_accuracy: 0.9849\n",
      "Epoch 3/10\n",
      "469/469 [==============================] - 74s 159ms/step - loss: 0.0612 - accuracy: 0.9818 - val_loss: 0.0342 - val_accuracy: 0.9893\n",
      "Epoch 4/10\n",
      "469/469 [==============================] - 73s 156ms/step - loss: 0.0509 - accuracy: 0.9844 - val_loss: 0.0290 - val_accuracy: 0.9901\n",
      "Epoch 5/10\n",
      "469/469 [==============================] - 80s 171ms/step - loss: 0.0437 - accuracy: 0.9864 - val_loss: 0.0280 - val_accuracy: 0.9914\n",
      "Epoch 6/10\n",
      "469/469 [==============================] - 72s 154ms/step - loss: 0.0375 - accuracy: 0.9882 - val_loss: 0.0292 - val_accuracy: 0.9908\n",
      "Epoch 7/10\n",
      "469/469 [==============================] - 75s 161ms/step - loss: 0.0331 - accuracy: 0.9898 - val_loss: 0.0326 - val_accuracy: 0.9901\n",
      "Epoch 8/10\n",
      "469/469 [==============================] - 77s 164ms/step - loss: 0.0298 - accuracy: 0.9908 - val_loss: 0.0326 - val_accuracy: 0.9904\n",
      "Epoch 9/10\n",
      "469/469 [==============================] - 75s 161ms/step - loss: 0.0281 - accuracy: 0.9912 - val_loss: 0.0323 - val_accuracy: 0.9899\n",
      "Epoch 10/10\n",
      "469/469 [==============================] - 77s 163ms/step - loss: 0.0238 - accuracy: 0.9928 - val_loss: 0.0269 - val_accuracy: 0.9918\n"
     ]
    },
    {
     "data": {
      "text/plain": [
       "<tensorflow.python.keras.callbacks.History at 0x272c197acc0>"
      ]
     },
     "execution_count": 10,
     "metadata": {},
     "output_type": "execute_result"
    }
   ],
   "source": [
    "model.fit(x_train, y_train, batch_size=128, epochs=10, verbose=1, validation_data=(x_test, y_test))"
   ]
  },
  {
   "cell_type": "code",
   "execution_count": 11,
   "metadata": {},
   "outputs": [
    {
     "name": "stdout",
     "output_type": "stream",
     "text": [
      "Model: \"sequential\"\n",
      "_________________________________________________________________\n",
      "Layer (type)                 Output Shape              Param #   \n",
      "=================================================================\n",
      "conv2d (Conv2D)              (None, 28, 28, 64)        1664      \n",
      "_________________________________________________________________\n",
      "max_pooling2d (MaxPooling2D) (None, 14, 14, 64)        0         \n",
      "_________________________________________________________________\n",
      "dropout (Dropout)            (None, 14, 14, 64)        0         \n",
      "_________________________________________________________________\n",
      "flatten (Flatten)            (None, 12544)             0         \n",
      "_________________________________________________________________\n",
      "dense (Dense)                (None, 300)               3763500   \n",
      "_________________________________________________________________\n",
      "dropout_1 (Dropout)          (None, 300)               0         \n",
      "_________________________________________________________________\n",
      "dense_1 (Dense)              (None, 100)               30100     \n",
      "_________________________________________________________________\n",
      "dropout_2 (Dropout)          (None, 100)               0         \n",
      "_________________________________________________________________\n",
      "dense_2 (Dense)              (None, 10)                1010      \n",
      "=================================================================\n",
      "Total params: 3,796,274\n",
      "Trainable params: 3,796,274\n",
      "Non-trainable params: 0\n",
      "_________________________________________________________________\n"
     ]
    }
   ],
   "source": [
    "model.summary()"
   ]
  },
  {
   "cell_type": "code",
   "execution_count": 12,
   "metadata": {},
   "outputs": [
    {
     "name": "stdout",
     "output_type": "stream",
     "text": [
      "313/313 [==============================] - 5s 17ms/step - loss: 0.0269 - accuracy: 0.9918\n",
      "Test loss: 0.026949603110551834\n",
      "Test accuracy: 0.9918000102043152\n"
     ]
    }
   ],
   "source": [
    "score = model.evaluate(x_test, y_test, verbose=1)\n",
    "\n",
    "print('Test loss:', score[0])\n",
    "print('Test accuracy:', score[1])"
   ]
  },
  {
   "cell_type": "code",
   "execution_count": null,
   "metadata": {},
   "outputs": [],
   "source": []
  }
 ],
 "metadata": {
  "kernelspec": {
   "display_name": "Python 3",
   "language": "python",
   "name": "python3"
  },
  "language_info": {
   "codemirror_mode": {
    "name": "ipython",
    "version": 3
   },
   "file_extension": ".py",
   "mimetype": "text/x-python",
   "name": "python",
   "nbconvert_exporter": "python",
   "pygments_lexer": "ipython3",
   "version": "3.6.12"
  }
 },
 "nbformat": 4,
 "nbformat_minor": 4
}
